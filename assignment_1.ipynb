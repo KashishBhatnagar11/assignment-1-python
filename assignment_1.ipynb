{
 "cells": [
  {
   "cell_type": "code",
   "execution_count": null,
   "id": "36bae08d-d78a-4500-a2a7-9dccdb6841b0",
   "metadata": {},
   "outputs": [],
   "source": [
    "# 2.Describe the role of predefined keywords in Python and provide examples of how they are used in a program\n",
    "\n",
    "#if, elif, else: These keywords are used for conditional statements.\n"
   ]
  },
  {
   "cell_type": "code",
   "execution_count": 1,
   "id": "afd38ffb-5142-420e-8dfe-7da8d0480b62",
   "metadata": {},
   "outputs": [
    {
     "name": "stdout",
     "output_type": "stream",
     "text": [
      "x is greater than 5\n"
     ]
    }
   ],
   "source": [
    "x = 10\n",
    "if x > 5:\n",
    "    print(\"x is greater than 5\")\n",
    "elif x == 5:\n",
    "    print(\"x is 5\")\n",
    "else:\n",
    "    print(\"x is less than 5\")\n"
   ]
  },
  {
   "cell_type": "code",
   "execution_count": null,
   "id": "5c55e5ef-e8df-40fe-ad47-73066a418abb",
   "metadata": {},
   "outputs": [],
   "source": [
    "#for, while, break, continue: These keywords control the flow of loops."
   ]
  },
  {
   "cell_type": "code",
   "execution_count": 3,
   "id": "946fd040-260e-41d8-9fa0-dc41c6ea980a",
   "metadata": {},
   "outputs": [
    {
     "name": "stdout",
     "output_type": "stream",
     "text": [
      "0\n",
      "1\n",
      "2\n",
      "3\n",
      "4\n"
     ]
    }
   ],
   "source": [
    "# for loop\n",
    "for i in range(5):\n",
    "    print(i)"
   ]
  },
  {
   "cell_type": "code",
   "execution_count": 4,
   "id": "55416de9-8805-4d7b-aeb9-4d340b88f053",
   "metadata": {},
   "outputs": [
    {
     "name": "stdout",
     "output_type": "stream",
     "text": [
      "0\n",
      "1\n",
      "2\n",
      "3\n",
      "4\n"
     ]
    }
   ],
   "source": [
    "# while loop\n",
    "count = 0\n",
    "while count < 5:\n",
    "    print(count)\n",
    "    count += 1"
   ]
  },
  {
   "cell_type": "code",
   "execution_count": 5,
   "id": "3b1c57e4-995a-4d5e-bf3f-08ac6f4c5faf",
   "metadata": {},
   "outputs": [
    {
     "name": "stdout",
     "output_type": "stream",
     "text": [
      "1\n",
      "3\n"
     ]
    }
   ],
   "source": [
    "# break and continue\n",
    "for i in range(10):\n",
    "    if i == 5:\n",
    "        break  # Exits the loop\n",
    "    if i % 2 == 0:\n",
    "        continue  # Skips the rest of the loop body for this iteration\n",
    "    print(i)"
   ]
  },
  {
   "cell_type": "code",
   "execution_count": null,
   "id": "5f8fbca1-2258-4919-ba97-987e0cba0c57",
   "metadata": {},
   "outputs": [],
   "source": [
    "#True, False, None: These are special constants in Python."
   ]
  },
  {
   "cell_type": "code",
   "execution_count": 6,
   "id": "968f9a7c-01f7-4441-8b82-4c6519ad6ed2",
   "metadata": {},
   "outputs": [
    {
     "name": "stdout",
     "output_type": "stream",
     "text": [
      "a is True\n",
      "b is False\n",
      "None\n"
     ]
    }
   ],
   "source": [
    "a = True\n",
    "b = False\n",
    "c = None\n",
    "if a:\n",
    "    print(\"a is True\")\n",
    "if not b:\n",
    "    print(\"b is False\")\n",
    "print(c) "
   ]
  },
  {
   "cell_type": "code",
   "execution_count": null,
   "id": "68eb6937-6358-4f18-8dc9-8a5f772895a5",
   "metadata": {},
   "outputs": [],
   "source": [
    "# 3.Compose and contrast mutable and immutable objects in Python with examples"
   ]
  },
  {
   "cell_type": "code",
   "execution_count": 7,
   "id": "00fa3efc-cf99-456c-8d85-a5eafe350be5",
   "metadata": {},
   "outputs": [
    {
     "name": "stdout",
     "output_type": "stream",
     "text": [
      "[1, 2, 3]\n"
     ]
    }
   ],
   "source": [
    "# Lists (mutable)\n",
    "my_list = [1, 2, 3]\n",
    "print(my_list) "
   ]
  },
  {
   "cell_type": "code",
   "execution_count": 8,
   "id": "7957654f-a96f-46b7-946f-8619f11bcea5",
   "metadata": {},
   "outputs": [
    {
     "name": "stdout",
     "output_type": "stream",
     "text": [
      "[1, 2, 3, 4]\n"
     ]
    }
   ],
   "source": [
    "my_list.append(4)\n",
    "print(my_list)  "
   ]
  },
  {
   "cell_type": "code",
   "execution_count": 9,
   "id": "8f46a7e6-c8b5-42e8-911c-1c9051412b81",
   "metadata": {},
   "outputs": [
    {
     "name": "stdout",
     "output_type": "stream",
     "text": [
      "5\n"
     ]
    }
   ],
   "source": [
    "# Integers (immutable)\n",
    "a = 5\n",
    "b = a\n",
    "a = 10\n",
    "print(b)  # The value of b remains unchanged"
   ]
  },
  {
   "cell_type": "code",
   "execution_count": 10,
   "id": "23d4c6ed-1484-4066-bd92-031f5a6e7c19",
   "metadata": {},
   "outputs": [
    {
     "name": "stdout",
     "output_type": "stream",
     "text": [
      "hello\n"
     ]
    }
   ],
   "source": [
    "# Strings (immutable)\n",
    "str1 = \"hello\"\n",
    "str2 = str1\n",
    "str1 = \"world\"\n",
    "print(str2)   # The original string str2 remains unchanged"
   ]
  },
  {
   "cell_type": "code",
   "execution_count": null,
   "id": "eb866800-8320-46c3-8fa6-52e640bc8207",
   "metadata": {},
   "outputs": [],
   "source": [
    "#  4.Discuss the different types of operators in Python and provide examples of how they are used"
   ]
  },
  {
   "cell_type": "code",
   "execution_count": 17,
   "id": "58ec9752-9ed9-4ca1-a007-c46452f7ebfb",
   "metadata": {},
   "outputs": [
    {
     "name": "stdout",
     "output_type": "stream",
     "text": [
      "15\n"
     ]
    }
   ],
   "source": [
    "# Arithmatic operators\n",
    "\n",
    "# Addition (+): Adds two operands.\n",
    "\n",
    "a = 10\n",
    "b = 5\n",
    "result = a + b  \n",
    "print(result)"
   ]
  },
  {
   "cell_type": "code",
   "execution_count": 18,
   "id": "fdaf1eb5-1c4f-46b5-b9d8-2e5935f09dbe",
   "metadata": {},
   "outputs": [
    {
     "name": "stdout",
     "output_type": "stream",
     "text": [
      "5\n"
     ]
    }
   ],
   "source": [
    "# Subtraction(-): subtracts two operands.\n",
    "\n",
    "result = a - b  \n",
    "print(result)"
   ]
  },
  {
   "cell_type": "code",
   "execution_count": 19,
   "id": "3d49ff95-ef72-4e39-b7dd-0c080ba157d8",
   "metadata": {},
   "outputs": [
    {
     "name": "stdout",
     "output_type": "stream",
     "text": [
      "50\n"
     ]
    }
   ],
   "source": [
    "# Multiplication (*): multiply two operands.\n",
    "\n",
    "result = a * b  \n",
    "print(result)"
   ]
  },
  {
   "cell_type": "code",
   "execution_count": 20,
   "id": "7803befb-319b-4d76-a674-72183a5234b4",
   "metadata": {},
   "outputs": [
    {
     "name": "stdout",
     "output_type": "stream",
     "text": [
      "2.0\n"
     ]
    }
   ],
   "source": [
    "# Division (/): divides two operands.\n",
    "\n",
    "result = a / b  \n",
    "print(result)"
   ]
  },
  {
   "cell_type": "code",
   "execution_count": 21,
   "id": "95db15fb-b6fe-4b66-b4b6-5e1b6564b826",
   "metadata": {},
   "outputs": [
    {
     "name": "stdout",
     "output_type": "stream",
     "text": [
      "0\n"
     ]
    }
   ],
   "source": [
    "# Modulus (%): Returns the remainder of a division operation\n",
    "\n",
    "result = a % b  \n",
    "print(result)"
   ]
  },
  {
   "cell_type": "code",
   "execution_count": 23,
   "id": "6795463e-4f1a-453c-ace7-27f4e1557777",
   "metadata": {},
   "outputs": [
    {
     "name": "stdout",
     "output_type": "stream",
     "text": [
      "False\n"
     ]
    }
   ],
   "source": [
    "# Comparison operators\n",
    "\n",
    "# Equal to (==): Checks if two operands are equal.\n",
    "\n",
    "result = (a == b) \n",
    "print(result)"
   ]
  },
  {
   "cell_type": "code",
   "execution_count": 24,
   "id": "91d4e278-ac45-441f-9812-45503c593cc4",
   "metadata": {},
   "outputs": [
    {
     "name": "stdout",
     "output_type": "stream",
     "text": [
      "True\n"
     ]
    }
   ],
   "source": [
    "#Not equal to (!=): Checks if two operands are not equal\n",
    "\n",
    "result = (a != b) \n",
    "print(result)"
   ]
  },
  {
   "cell_type": "code",
   "execution_count": 26,
   "id": "f29deb25-61cd-49a5-b083-8dc4ac3604ad",
   "metadata": {},
   "outputs": [
    {
     "name": "stdout",
     "output_type": "stream",
     "text": [
      "True\n"
     ]
    }
   ],
   "source": [
    "#Greater than (>): Checks if the first operand is greater than the second.\n",
    "\n",
    "result = (a > b) \n",
    "print(result)"
   ]
  },
  {
   "cell_type": "code",
   "execution_count": 27,
   "id": "33bfe480-52f4-4012-9c5a-740d69a24ef0",
   "metadata": {},
   "outputs": [
    {
     "name": "stdout",
     "output_type": "stream",
     "text": [
      "False\n"
     ]
    }
   ],
   "source": [
    "#Lesser than (<): Checks if the first operand is lesser than the second.\n",
    "\n",
    "result = (a < b) \n",
    "print(result)"
   ]
  },
  {
   "cell_type": "code",
   "execution_count": 28,
   "id": "ce1150fe-f7b0-4e70-ab79-29a896e0d931",
   "metadata": {},
   "outputs": [
    {
     "name": "stdout",
     "output_type": "stream",
     "text": [
      "True\n"
     ]
    }
   ],
   "source": [
    "# Logical operators\n",
    "\n",
    "#And (and): Returns True if both operands are True.\n",
    "\n",
    "result = (a > 5 and b < 10)  \n",
    "print(result)"
   ]
  },
  {
   "cell_type": "code",
   "execution_count": 32,
   "id": "1d36df05-faca-4da1-a90d-9f41a3cb4d76",
   "metadata": {},
   "outputs": [
    {
     "data": {
      "text/plain": [
       "True"
      ]
     },
     "execution_count": 32,
     "metadata": {},
     "output_type": "execute_result"
    }
   ],
   "source": [
    "#Or (or): Returns True if at least one of the operands is True.\n",
    "\n",
    "result = (a > 15 or b < 10)  \n",
    "result"
   ]
  },
  {
   "cell_type": "code",
   "execution_count": 30,
   "id": "20f0ee3f-391d-4637-9c0b-bf24c02bd0b1",
   "metadata": {},
   "outputs": [
    {
     "name": "stdout",
     "output_type": "stream",
     "text": [
      "False\n"
     ]
    }
   ],
   "source": [
    "#Not (not): Returns True if the operand is False.\n",
    "\n",
    "result = not (a > 5) \n",
    "print(result)"
   ]
  },
  {
   "cell_type": "code",
   "execution_count": 34,
   "id": "a868db89-f2f6-4fbc-b390-cfed1b1a008c",
   "metadata": {},
   "outputs": [
    {
     "data": {
      "text/plain": [
       "10"
      ]
     },
     "execution_count": 34,
     "metadata": {},
     "output_type": "execute_result"
    }
   ],
   "source": [
    "# Assignment operators\n",
    "\n",
    "#Assign (=): Assigns a value to a variable.\n",
    "\n",
    "x = 10  # x is now 10\n",
    "x"
   ]
  },
  {
   "cell_type": "code",
   "execution_count": 35,
   "id": "08688f80-b021-4db4-8d81-6e900ee4488b",
   "metadata": {},
   "outputs": [
    {
     "data": {
      "text/plain": [
       "15"
      ]
     },
     "execution_count": 35,
     "metadata": {},
     "output_type": "execute_result"
    }
   ],
   "source": [
    "#Add and assign (+=): Adds the right operand to the left operand and assigns the result to the left operand.\n",
    "\n",
    "x += 5  # x is now 15\n",
    "x"
   ]
  },
  {
   "cell_type": "code",
   "execution_count": 36,
   "id": "7f1f6aeb-5d11-4ad8-9ace-e2ba9f1c03b5",
   "metadata": {},
   "outputs": [
    {
     "data": {
      "text/plain": [
       "12"
      ]
     },
     "execution_count": 36,
     "metadata": {},
     "output_type": "execute_result"
    }
   ],
   "source": [
    "#Subtract and assign (-=): Subtracts the right operand from the left operand and assigns the result to the left operand.\n",
    "\n",
    "x -= 3  # x is now 12\n",
    "x"
   ]
  },
  {
   "cell_type": "code",
   "execution_count": 37,
   "id": "d7ffad35-8f23-47f3-8886-b9ed0637b4ec",
   "metadata": {},
   "outputs": [
    {
     "data": {
      "text/plain": [
       "24"
      ]
     },
     "execution_count": 37,
     "metadata": {},
     "output_type": "execute_result"
    }
   ],
   "source": [
    "#Multiply and assign (*=): Multiplies the left operand by the right operand and assigns the result to the left operand.\n",
    "\n",
    "x *= 2  # x is now 24\n",
    "x"
   ]
  },
  {
   "cell_type": "code",
   "execution_count": 38,
   "id": "ab338aa8-9408-48ea-b32b-e8b7a69ee1a6",
   "metadata": {},
   "outputs": [
    {
     "data": {
      "text/plain": [
       "6.0"
      ]
     },
     "execution_count": 38,
     "metadata": {},
     "output_type": "execute_result"
    }
   ],
   "source": [
    "#Divide and assign (/=): Divides the left operand by the right operand and assigns the result to the left operand.\n",
    "\n",
    "x /= 4  # x is now 6.0\n",
    "x"
   ]
  },
  {
   "cell_type": "code",
   "execution_count": 39,
   "id": "5ac412d9-a92c-4d6d-add0-47ec35df4eb3",
   "metadata": {},
   "outputs": [
    {
     "data": {
      "text/plain": [
       "1.0"
      ]
     },
     "execution_count": 39,
     "metadata": {},
     "output_type": "execute_result"
    }
   ],
   "source": [
    "#Modulus and assign (%=): Applies the modulus operation and assigns the result to the left operand.\n",
    "\n",
    "x %= 5  # x is now 1.0\n",
    "x"
   ]
  },
  {
   "cell_type": "code",
   "execution_count": 40,
   "id": "a06407c6-0ecb-4142-b9c3-935609932c8c",
   "metadata": {},
   "outputs": [
    {
     "data": {
      "text/plain": [
       "1.0"
      ]
     },
     "execution_count": 40,
     "metadata": {},
     "output_type": "execute_result"
    }
   ],
   "source": [
    "#Exponent and assign (**=): Raises the left operand to the power of the right operand and assigns the result to the left operand.\n",
    "\n",
    "x **= 3  # x is now 1.0 (1^3 is 1)\n",
    "x"
   ]
  },
  {
   "cell_type": "code",
   "execution_count": 41,
   "id": "393123d7-2889-4d95-a62e-b4cbb43a2d50",
   "metadata": {},
   "outputs": [
    {
     "data": {
      "text/plain": [
       "2"
      ]
     },
     "execution_count": 41,
     "metadata": {},
     "output_type": "execute_result"
    }
   ],
   "source": [
    "# Bitwise operators\n",
    "\n",
    "#AND (&): Performs a bitwise AND operation.\n",
    "\n",
    "a = 6 \n",
    "b = 3  \n",
    "result = a & b\n",
    "result"
   ]
  },
  {
   "cell_type": "code",
   "execution_count": 42,
   "id": "38b57670-9d53-4404-be24-6f1680ce9710",
   "metadata": {},
   "outputs": [
    {
     "data": {
      "text/plain": [
       "7"
      ]
     },
     "execution_count": 42,
     "metadata": {},
     "output_type": "execute_result"
    }
   ],
   "source": [
    "#OR (|): Performs a bitwise OR operation.\n",
    "\n",
    "result = a | b \n",
    "result"
   ]
  },
  {
   "cell_type": "code",
   "execution_count": 43,
   "id": "02154e3a-3dcc-47be-a49d-3c0be5210f28",
   "metadata": {},
   "outputs": [
    {
     "data": {
      "text/plain": [
       "5"
      ]
     },
     "execution_count": 43,
     "metadata": {},
     "output_type": "execute_result"
    }
   ],
   "source": [
    "#XOR (^): Performs a bitwise XOR operation.\n",
    "\n",
    "result = a ^ b  \n",
    "result"
   ]
  },
  {
   "cell_type": "code",
   "execution_count": 44,
   "id": "25cb9f03-8caa-426c-a1af-592e2a171e08",
   "metadata": {},
   "outputs": [
    {
     "data": {
      "text/plain": [
       "-7"
      ]
     },
     "execution_count": 44,
     "metadata": {},
     "output_type": "execute_result"
    }
   ],
   "source": [
    "#Complement (~): Inverts all the bits.\n",
    "\n",
    "result = ~a  \n",
    "result"
   ]
  },
  {
   "cell_type": "code",
   "execution_count": 46,
   "id": "977df964-4642-488c-816a-3fa0b7c7eabf",
   "metadata": {},
   "outputs": [
    {
     "data": {
      "text/plain": [
       "12"
      ]
     },
     "execution_count": 46,
     "metadata": {},
     "output_type": "execute_result"
    }
   ],
   "source": [
    "#Left shift (<<): Shifts bits to the left, adding zeros on the right.\n",
    "\n",
    "result = a << 1 \n",
    "result"
   ]
  },
  {
   "cell_type": "code",
   "execution_count": 47,
   "id": "cc3e3f9e-e456-48be-b9af-5fe8bbea625b",
   "metadata": {},
   "outputs": [
    {
     "data": {
      "text/plain": [
       "3"
      ]
     },
     "execution_count": 47,
     "metadata": {},
     "output_type": "execute_result"
    }
   ],
   "source": [
    "#Right shift (>>): Shifts bits to the right, discarding bits on the right.\n",
    "\n",
    "result = a >> 1  \n",
    "result"
   ]
  },
  {
   "cell_type": "code",
   "execution_count": 49,
   "id": "0f4a9ab9-2f85-4b57-a43b-7f501cd7b985",
   "metadata": {},
   "outputs": [
    {
     "data": {
      "text/plain": [
       "True"
      ]
     },
     "execution_count": 49,
     "metadata": {},
     "output_type": "execute_result"
    }
   ],
   "source": [
    "# Membership operator\n",
    "\n",
    "#In (in): Returns True if a value is present in a sequence.\n",
    "\n",
    "fruits = ['apple', 'banana', 'berry']\n",
    "result = 'banana' in fruits  \n",
    "result"
   ]
  },
  {
   "cell_type": "code",
   "execution_count": 50,
   "id": "dfbbdc3f-fe7e-46c1-a2dc-12b9fce8f7d8",
   "metadata": {},
   "outputs": [
    {
     "data": {
      "text/plain": [
       "True"
      ]
     },
     "execution_count": 50,
     "metadata": {},
     "output_type": "execute_result"
    }
   ],
   "source": [
    "#Not in (not in): Returns True if a value is not present in a sequence.\n",
    "\n",
    "result = 'grape' not in fruits \n",
    "result"
   ]
  },
  {
   "cell_type": "code",
   "execution_count": 55,
   "id": "f8e54fef-487c-4397-bd16-6c84dfe19443",
   "metadata": {},
   "outputs": [
    {
     "data": {
      "text/plain": [
       "True"
      ]
     },
     "execution_count": 55,
     "metadata": {},
     "output_type": "execute_result"
    }
   ],
   "source": [
    "# Identity Operators\n",
    "\n",
    "#Is (is): Returns True if two variables point to the same object.\n",
    "\n",
    "a = [1, 2, 3, 4]\n",
    "b = a\n",
    "result = (a is b)  \n",
    "result"
   ]
  },
  {
   "cell_type": "code",
   "execution_count": 60,
   "id": "6a37b924-4c22-4653-baf0-3378a554f0e4",
   "metadata": {},
   "outputs": [
    {
     "data": {
      "text/plain": [
       "True"
      ]
     },
     "execution_count": 60,
     "metadata": {},
     "output_type": "execute_result"
    }
   ],
   "source": [
    "#Is not (is not): Returns True if two variables point to different objects.\n",
    "\n",
    "c = [1, 2, 3]\n",
    "result = (a is not c)\n",
    "result"
   ]
  },
  {
   "cell_type": "code",
   "execution_count": null,
   "id": "7ccf7048-904d-4fd4-ac43-7810304a0ac8",
   "metadata": {},
   "outputs": [],
   "source": [
    "# 5.Explain the concept of type casting in Python "
   ]
  },
  {
   "cell_type": "code",
   "execution_count": 1,
   "id": "9a386948-8a53-4d8b-81b4-e963fdd74ef6",
   "metadata": {},
   "outputs": [
    {
     "name": "stdout",
     "output_type": "stream",
     "text": [
      "12\n"
     ]
    }
   ],
   "source": [
    "#Converting a float to an Integer:\n",
    "float_value = 12.56\n",
    "int_value = int(float_value)\n",
    "print(int_value) "
   ]
  },
  {
   "cell_type": "code",
   "execution_count": 3,
   "id": "2f5497e7-0d24-4165-9aa1-5bac4f00a302",
   "metadata": {},
   "outputs": [
    {
     "name": "stdout",
     "output_type": "stream",
     "text": [
      "123\n"
     ]
    }
   ],
   "source": [
    "# Convert a string to an integer\n",
    "str_value = \"123\"\n",
    "int_value = int(str_value)\n",
    "print(int_value)"
   ]
  },
  {
   "cell_type": "code",
   "execution_count": 4,
   "id": "5b771973-aaba-4e62-8e93-82e239f066e3",
   "metadata": {},
   "outputs": [
    {
     "name": "stdout",
     "output_type": "stream",
     "text": [
      "9.81\n"
     ]
    }
   ],
   "source": [
    "# Convert a float to a string\n",
    "float_value = 9.81\n",
    "str_value = str(float_value)\n",
    "print(str_value)"
   ]
  },
  {
   "cell_type": "code",
   "execution_count": null,
   "id": "fd8ef428-e7c5-43c6-8e78-a7fe8f6ddf18",
   "metadata": {},
   "outputs": [],
   "source": [
    "# 6.How do conditional statements work in Python? Illustrate with examples."
   ]
  },
  {
   "cell_type": "code",
   "execution_count": 3,
   "id": "f14880b2-97a3-47bc-b977-542b3e36c091",
   "metadata": {},
   "outputs": [
    {
     "name": "stdout",
     "output_type": "stream",
     "text": [
      "b is greater than a\n"
     ]
    }
   ],
   "source": [
    "# if statement\n",
    "\n",
    "a = 100\n",
    "b = 200\n",
    "if b > a:                             \n",
    "  print(\"b is greater than a\")"
   ]
  },
  {
   "cell_type": "code",
   "execution_count": 4,
   "id": "5345cd90-b1e5-4fd5-bc0e-bc1cc2226b37",
   "metadata": {},
   "outputs": [
    {
     "name": "stdout",
     "output_type": "stream",
     "text": [
      "a and b are equal\n"
     ]
    }
   ],
   "source": [
    "#elif statement\n",
    "\n",
    "a = 43\n",
    "b = 43\n",
    "if b > a:\n",
    "  print(\"b is greater than a\")\n",
    "elif a == b:\n",
    "  print(\"a and b are equal\")"
   ]
  },
  {
   "cell_type": "code",
   "execution_count": 5,
   "id": "841dcda9-5cf7-4f9b-8a58-e342ec173638",
   "metadata": {},
   "outputs": [
    {
     "name": "stdout",
     "output_type": "stream",
     "text": [
      "a is greater than b\n"
     ]
    }
   ],
   "source": [
    "# if-else if-else statement\n",
    "\n",
    "a = 230\n",
    "b = 132\n",
    "if b > a:\n",
    "  print(\"b is greater than a\")\n",
    "elif a == b:\n",
    "  print(\"a and b are equal\")\n",
    "else:\n",
    "  print(\"a is greater than b\")"
   ]
  },
  {
   "cell_type": "code",
   "execution_count": 7,
   "id": "72081a09-333a-4c46-9e7f-5b22f563f277",
   "metadata": {},
   "outputs": [
    {
     "name": "stdout",
     "output_type": "stream",
     "text": [
      "x is 5 or less\n"
     ]
    }
   ],
   "source": [
    "# nested statements\n",
    "\n",
    "x = 3\n",
    "if x > 5:\n",
    "    if x < 15:\n",
    "        print(\"x is between 5 and 15\")\n",
    "    else:\n",
    "        print(\"x is 15 or more\")\n",
    "else:\n",
    "    print(\"x is 5 or less\")"
   ]
  },
  {
   "cell_type": "code",
   "execution_count": 8,
   "id": "867ffcca-ed3c-4316-8020-737ed161deaa",
   "metadata": {},
   "outputs": [],
   "source": [
    "# 7. Describe the different types of loops in Python and their use cases with examples"
   ]
  },
  {
   "cell_type": "code",
   "execution_count": 9,
   "id": "5b02ca4b-dfef-404a-94eb-f02043818c23",
   "metadata": {},
   "outputs": [
    {
     "name": "stdout",
     "output_type": "stream",
     "text": [
      "apple\n",
      "banana\n",
      "cherry\n",
      "pineapple\n"
     ]
    }
   ],
   "source": [
    "# for loop\n",
    "\n",
    "fruits = [\"apple\", \"banana\", \"cherry\",\"pineapple\"]\n",
    "\n",
    "for fruit in fruits:\n",
    "    print(fruit)"
   ]
  },
  {
   "cell_type": "code",
   "execution_count": 12,
   "id": "691b1be6-92bd-48e7-9389-3d5baf092ee2",
   "metadata": {},
   "outputs": [
    {
     "name": "stdout",
     "output_type": "stream",
     "text": [
      "1\n",
      "2\n",
      "3\n",
      "4\n",
      "5\n"
     ]
    }
   ],
   "source": [
    "# while loop\n",
    "i = 1\n",
    "while i < 6:\n",
    "  print(i)\n",
    "  i += 1"
   ]
  },
  {
   "cell_type": "code",
   "execution_count": null,
   "id": "0e0afd28-3122-4838-b5e6-390a63171a88",
   "metadata": {},
   "outputs": [],
   "source": []
  }
 ],
 "metadata": {
  "kernelspec": {
   "display_name": "Python 3 (ipykernel)",
   "language": "python",
   "name": "python3"
  },
  "language_info": {
   "codemirror_mode": {
    "name": "ipython",
    "version": 3
   },
   "file_extension": ".py",
   "mimetype": "text/x-python",
   "name": "python",
   "nbconvert_exporter": "python",
   "pygments_lexer": "ipython3",
   "version": "3.10.8"
  }
 },
 "nbformat": 4,
 "nbformat_minor": 5
}
